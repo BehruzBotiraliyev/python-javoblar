{
  "nbformat": 4,
  "nbformat_minor": 0,
  "metadata": {
    "colab": {
      "provenance": [],
      "authorship_tag": "ABX9TyP3QO/xZFR3JyWiy2VDXTFy",
      "include_colab_link": true
    },
    "kernelspec": {
      "name": "python3",
      "display_name": "Python 3"
    },
    "language_info": {
      "name": "python"
    }
  },
  "cells": [
    {
      "cell_type": "markdown",
      "metadata": {
        "id": "view-in-github",
        "colab_type": "text"
      },
      "source": [
        "<a href=\"https://colab.research.google.com/github/BehruzBotiraliyev/python-javoblar/blob/main/1_ish_sinovi.ipynb\" target=\"_parent\"><img src=\"https://colab.research.google.com/assets/colab-badge.svg\" alt=\"Open In Colab\"/></a>"
      ]
    },
    {
      "cell_type": "markdown",
      "source": [
        "1-qism"
      ],
      "metadata": {
        "id": "jtdo8dsrY10Q"
      }
    },
    {
      "cell_type": "code",
      "execution_count": 1,
      "metadata": {
        "id": "a7AAO96hXnR7"
      },
      "outputs": [],
      "source": [
        "a = 12"
      ]
    },
    {
      "cell_type": "markdown",
      "source": [
        "2-qism"
      ],
      "metadata": {
        "id": "vy2uvMImYsqF"
      }
    },
    {
      "cell_type": "code",
      "source": [
        "b = 13"
      ],
      "metadata": {
        "id": "4DgZ612vYvYl"
      },
      "execution_count": 2,
      "outputs": []
    },
    {
      "cell_type": "markdown",
      "source": [
        "Natija"
      ],
      "metadata": {
        "id": "UWc2hlxkYx0k"
      }
    },
    {
      "cell_type": "code",
      "source": [
        "print(a+b)"
      ],
      "metadata": {
        "colab": {
          "base_uri": "https://localhost:8080/"
        },
        "id": "4P6YLlW4YzfN",
        "outputId": "f9732b22-c8c4-41e8-958c-a921ce5fa69b"
      },
      "execution_count": 3,
      "outputs": [
        {
          "output_type": "stream",
          "name": "stdout",
          "text": [
            "25\n"
          ]
        }
      ]
    }
  ]
}